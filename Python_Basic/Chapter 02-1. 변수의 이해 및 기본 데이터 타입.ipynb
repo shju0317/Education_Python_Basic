{
 "cells": [
  {
   "cell_type": "markdown",
   "metadata": {},
   "source": [
    "### 학습목표\n",
    "1. python 언어에서 변수의 의미 이해하기\n",
    "2. 기본 데이터 타입 선언하기\n",
    " - 문자열(String) = 'Hello',\"Hi\"\n",
    " - 숫자(Number) = int, float\n",
    " - 불(boolean) = True, False"
   ]
  },
  {
   "cell_type": "markdown",
   "metadata": {},
   "source": [
    "### 기본 데이터 타입\n",
    "* variable declaration & value assignment(변수 선언 및 값 할당)"
   ]
  },
  {
   "cell_type": "markdown",
   "metadata": {},
   "source": [
    "##### = 대입 연산자, == 비교 연산자\n",
    "- 대입의 경우, 오른쪽의 수식이나 값을 evaluation(여기서는 계산이라는 의미로 사용)한 뒤,\n",
    "- 왼쪽에 명시된 변수에 해당 값을 대입\n",
    "- 변수는 해당 값을 가지게 됨"
   ]
  },
  {
   "cell_type": "code",
   "execution_count": 2,
   "metadata": {},
   "outputs": [],
   "source": [
    "a = 10 # int\n",
    "b = 11.4 # float"
   ]
  },
  {
   "cell_type": "markdown",
   "metadata": {},
   "source": [
    "#### **comment(주석)**\n",
    "- 코드에서 #으로 시작하는 뒷 부분은 실행되지 않음\n",
    "- python이 소스코드를 실행하면서 #를 만나면 무시\n",
    "- 개발자(사람)가 보기 위한 용도로 사용"
   ]
  },
  {
   "cell_type": "code",
   "execution_count": 4,
   "metadata": {},
   "outputs": [],
   "source": [
    "# this line is very important\n",
    "# so don't delete those lines\n",
    "\n",
    "a = 10\n",
    "b = 11.4"
   ]
  },
  {
   "cell_type": "markdown",
   "metadata": {},
   "source": [
    "#### **print 함수**\n",
    "- 함수란 특정 기능을 반복적으로 호출하여 사용가능한 코드블럭\n",
    "- 해당 변수의 값을 출력\n",
    "- , 로 여러 변수를 나열하면 한줄에 출력\n",
    "- 기본적으로는 한칸 띄어쓰기 후 출력"
   ]
  },
  {
   "cell_type": "code",
   "execution_count": 5,
   "metadata": {},
   "outputs": [
    {
     "name": "stdout",
     "output_type": "stream",
     "text": [
      "10 11.4\n",
      "10 10 200 11.4\n"
     ]
    }
   ],
   "source": [
    "print(a, b)\n",
    "print(a, 10, 200, b)"
   ]
  },
  {
   "cell_type": "markdown",
   "metadata": {},
   "source": [
    "#### java Code\n",
    "\n",
    "String name = \"살 체리\";\n",
    "\n",
    "int age = 5;\n",
    "\n",
    "System.out.println(age + name);\n",
    "\n",
    "> \"5살 체리\""
   ]
  },
  {
   "cell_type": "code",
   "execution_count": 13,
   "metadata": {},
   "outputs": [
    {
     "name": "stdout",
     "output_type": "stream",
     "text": [
      "5 살 체리\n",
      "5살 체리\n"
     ]
    }
   ],
   "source": [
    "#### Python Code\n",
    "name = '살 체리'\n",
    "age = 5\n",
    "\n",
    "# print(age + name)\n",
    "print(age,name)\n",
    "print('{}살 체리'.format(age))"
   ]
  },
  {
   "cell_type": "markdown",
   "metadata": {},
   "source": [
    "* **print 함수 설정**\n",
    "  - sep : 구분자, 각 출력할 변수 사이에서 구별하는 역할을 함\n",
    "  - end : 마지막에 출력할 문자열"
   ]
  },
  {
   "cell_type": "code",
   "execution_count": 14,
   "metadata": {},
   "outputs": [
    {
     "name": "stdout",
     "output_type": "stream",
     "text": [
      "10*11.4*10*100!!"
     ]
    }
   ],
   "source": [
    "print(a, b, 10, 100, sep='*', end='!!')"
   ]
  },
  {
   "cell_type": "markdown",
   "metadata": {},
   "source": [
    "#### **(Jupyter)에서 변수 값 확인법**\n",
    "  - print() 함수 사용\n",
    "  - 변수 값을 코드의 마지막에 위치 시킨 후 실행 \n",
    "    - 이 경우 output으로 변수의 값이 출력"
   ]
  },
  {
   "cell_type": "code",
   "execution_count": 21,
   "metadata": {},
   "outputs": [
    {
     "data": {
      "text/plain": [
       "25"
      ]
     },
     "execution_count": 21,
     "metadata": {},
     "output_type": "execute_result"
    }
   ],
   "source": [
    "a = 5\n",
    "b = 25\n",
    "# print(a)\n",
    "a\n",
    "b # 가장 마지막 값만 출력(a 출력 안됨)\n",
    "\n",
    "# a, b 둘 다 출력하려면\n",
    "# print(a)\n",
    "# print(b)"
   ]
  },
  {
   "cell_type": "markdown",
   "metadata": {},
   "source": [
    "#### **Variable naming(변수 이름 규칙)**\n",
    "  - 숫자로 시작하는 이름을 제외하고 영문 대소문자, _, 숫자로 구성가능\n",
    "  - 아래의 예제는 모두 valid한 변수 이름 \n",
    "  - 일반적으로 해당 변수를 표현하고자 하는 정확하고 간결한 이름을 사용하는 것이 원칙\n",
    "    - 코드를 읽은 것을 더 쉽게 할 수 있음\n",
    "    - e.g) a = 1000의 경우보다 **student_num = 1000**로 명시한 것이 변수에 대한 이해가 빠름"
   ]
  },
  {
   "cell_type": "markdown",
   "metadata": {},
   "source": [
    "#### Naming Method\n",
    "- snake_case : 소문자로 작성하고, 합성어는 _사용\n",
    "- CamelCase : 첫글자 대문자, 합성어 첫글자 대문자\n",
    "\n",
    "- Java는 CamelCase만 사용\n",
    "  - 변수: 첫글자 소문자, 합성어 첫글자 대문자    ex) studentName\n",
    "  - 메서드 : 첫글자 소문자, 합성어 첫글자 대문자 ex) calcSum()\n",
    "  - 클래스 : 첫글자 대문자, 합성어 첫글자 대문자 ex) BoardService\n",
    "  \n",
    "- Python은 snake_case와 CamelCase 모두 사용\n",
    "  - 변수: snake_case, 모두 소문자    ex) student_num\n",
    "  - 메서드 : snake_case ex) calc_sum()\n",
    "  - 클래스 : CamleCase 첫글자 대문자, 합성어 첫글자 대문자 ex) BoardService"
   ]
  },
  {
   "cell_type": "code",
   "execution_count": 22,
   "metadata": {},
   "outputs": [],
   "source": [
    "# Error는 나지 않음. 그러나 권장 X\n",
    "abcABC = 100\n",
    "_abc124 = 200\n",
    "ABC124 = 200\n",
    "a456BC = 100\n",
    "\n",
    "a = 200\n",
    "number_of_students = 200"
   ]
  },
  {
   "cell_type": "markdown",
   "metadata": {},
   "source": [
    "* **invalid한 변수 이름의 예**\n",
    "  - 숫자로 시작하면 안되는 이유는?"
   ]
  },
  {
   "cell_type": "code",
   "execution_count": 23,
   "metadata": {},
   "outputs": [
    {
     "ename": "SyntaxError",
     "evalue": "can't assign to literal (<ipython-input-23-b72f2b497a0c>, line 1)",
     "output_type": "error",
     "traceback": [
      "\u001b[1;36m  File \u001b[1;32m\"<ipython-input-23-b72f2b497a0c>\"\u001b[1;36m, line \u001b[1;32m1\u001b[0m\n\u001b[1;33m    4 = 9\u001b[0m\n\u001b[1;37m         ^\u001b[0m\n\u001b[1;31mSyntaxError\u001b[0m\u001b[1;31m:\u001b[0m can't assign to literal\n"
     ]
    }
   ],
   "source": [
    "4 = 9"
   ]
  },
  {
   "cell_type": "markdown",
   "metadata": {},
   "source": [
    "#### **reserved keywords(예약어)**\n",
    "  - python에서 미리 선점하여 사용중인 키워드\n",
    "  - 변수, 함수, 클래스 등등의 사용자 정의 이름을 사용할 수 없음\n",
    "> for, while, if, elif, else, class, try, except, True, False, None, and, as, nonlocal, return, raise, is, in, import, def, not, pass, break, continue, del, from, global, ..."
   ]
  },
  {
   "cell_type": "code",
   "execution_count": 25,
   "metadata": {},
   "outputs": [
    {
     "name": "stdout",
     "output_type": "stream",
     "text": [
      "100\n"
     ]
    }
   ],
   "source": [
    "# 예약어를 변수명으로 사용하고 싶을 때는 앞에 _를 붙여서 사용!\n",
    "_class = 100\n",
    "print(_class)"
   ]
  },
  {
   "cell_type": "markdown",
   "metadata": {},
   "source": [
    "### 기본 데이터 타입\n",
    "  - 정수(int)\n",
    "  - 실수(float)\n",
    "  - 문자열(str)\n",
    "  - 불리언(boolean)\n",
    "> type 함수를 사용하면 데이터의 자료형 확인 가능"
   ]
  },
  {
   "cell_type": "code",
   "execution_count": 26,
   "metadata": {},
   "outputs": [
    {
     "name": "stdout",
     "output_type": "stream",
     "text": [
      "<class 'int'>\n",
      "<class 'float'>\n",
      "<class 'bool'>\n",
      "<class 'str'>\n"
     ]
    }
   ],
   "source": [
    "a = 10;\n",
    "b = 3.14;\n",
    "c = True\n",
    "d = 'Hello'\n",
    "print(type(a))\n",
    "print(type(b))\n",
    "print(type(c))\n",
    "print(type(d))"
   ]
  },
  {
   "cell_type": "markdown",
   "metadata": {},
   "source": [
    "#### **None**\n",
    "  - 아무런 값을 갖지 않을 때 사용\n",
    "  - 일반적으로 변수가 초기값을 갖지 않게 하여 해당 변수를 생성할 때 사용\n",
    "  - 기타 언어의 NULL, nil 등과 같은 의미로 사용"
   ]
  },
  {
   "cell_type": "code",
   "execution_count": 27,
   "metadata": {},
   "outputs": [
    {
     "name": "stdout",
     "output_type": "stream",
     "text": [
      "None\n"
     ]
    }
   ],
   "source": [
    "c = None\n",
    "print(c) # None은 None Type"
   ]
  },
  {
   "cell_type": "markdown",
   "metadata": {},
   "source": [
    "#### **comparison operator(비교 연산자)**\n",
    "  - 프로그래밍에선는 비교를 할 경우, = 대신 **==**를 사용\n",
    "  - <, >(작다, 크다)\n",
    "  - <=, >= (작거나 같다, 크거나 같다)\n",
    "  - == 같다\n",
    "  - != 같지 않다\n",
    "  - 비교 연산자의 결과는 bool 타입"
   ]
  },
  {
   "cell_type": "code",
   "execution_count": 30,
   "metadata": {},
   "outputs": [
    {
     "name": "stdout",
     "output_type": "stream",
     "text": [
      "True\n",
      "False\n",
      "True\n",
      "False\n",
      "False\n",
      "True\n",
      "<class 'bool'>\n",
      "True\n"
     ]
    }
   ],
   "source": [
    "a = 5\n",
    "b = 4\n",
    "\n",
    "print(a > b) # True\n",
    "print(a < b) # False\n",
    "print(a >= b) # True\n",
    "print(a <= b) # False\n",
    "print(a == b) # False\n",
    "print(a != b) # True\n",
    "\n",
    "c = a > b\n",
    "c = True\n",
    "print(type(c))\n",
    "print(c)"
   ]
  },
  {
   "cell_type": "markdown",
   "metadata": {},
   "source": [
    "#### **numbers(숫자형 타입)**\n",
    "- 정수, 실수로 구성\n",
    "- 수학의 기본 연산자(가감승제) 사용 가능"
   ]
  },
  {
   "cell_type": "code",
   "execution_count": 32,
   "metadata": {},
   "outputs": [
    {
     "name": "stdout",
     "output_type": "stream",
     "text": [
      "9\n",
      "1\n",
      "20\n",
      "1.25\n",
      "1\n",
      "625\n"
     ]
    }
   ],
   "source": [
    "a = 5\n",
    "b = 4\n",
    "\n",
    "print(a + b) # 덧셈\n",
    "print(a - b) # 뺄셈\n",
    "print(a * b) # 곱셈\n",
    "print(a / b) # 나누기(몫)\n",
    "print(a % b) # 나누기(나머지)\n",
    "print(a ** b) # 제곱"
   ]
  },
  {
   "cell_type": "markdown",
   "metadata": {},
   "source": [
    "#### **operator priorites(연산자 우선순위)**\n",
    "  - 기본적인 수학의 연산자와 동일\n",
    "  - 강제로 연산을 선수하기 위해선, 괄호()를 사용"
   ]
  },
  {
   "cell_type": "code",
   "execution_count": 33,
   "metadata": {},
   "outputs": [
    {
     "name": "stdout",
     "output_type": "stream",
     "text": [
      "21\n",
      "36\n"
     ]
    }
   ],
   "source": [
    "a = 5\n",
    "b = 4\n",
    "\n",
    "print(a + b *4)\n",
    "print((a + b) * 4)"
   ]
  },
  {
   "cell_type": "markdown",
   "metadata": {},
   "source": [
    "* **연습문제** 다음의 각 a값을 출력했을 때 결과는?"
   ]
  },
  {
   "cell_type": "code",
   "execution_count": 37,
   "metadata": {},
   "outputs": [
    {
     "name": "stdout",
     "output_type": "stream",
     "text": [
      "9\n",
      "6\n",
      "9\n"
     ]
    }
   ],
   "source": [
    "a = 9\n",
    "print(a) # 9\n",
    "print(a - 3) # 6\n",
    "print(a) # 9\n",
    "\n",
    "# 변수에 값을 담기 전까지는 1회성으로만 실행됨."
   ]
  },
  {
   "cell_type": "markdown",
   "metadata": {},
   "source": [
    "#### **expression evaluation & assignment(식평가 & 대입)**\n",
    "  - 변수의 값이 변경되기 위해서는 =를 사용하여 대입이 발생하는 경우에만 해당"
   ]
  },
  {
   "cell_type": "code",
   "execution_count": 38,
   "metadata": {},
   "outputs": [
    {
     "name": "stdout",
     "output_type": "stream",
     "text": [
      "9\n"
     ]
    }
   ],
   "source": [
    "a = 9\n",
    "a-3\n",
    "print(a)"
   ]
  },
  {
   "cell_type": "code",
   "execution_count": 39,
   "metadata": {},
   "outputs": [
    {
     "name": "stdout",
     "output_type": "stream",
     "text": [
      "6\n"
     ]
    }
   ],
   "source": [
    "a = 9\n",
    "t = a - 3\n",
    "a = t\n",
    "\n",
    "print(a)"
   ]
  },
  {
   "cell_type": "code",
   "execution_count": 40,
   "metadata": {},
   "outputs": [
    {
     "name": "stdout",
     "output_type": "stream",
     "text": [
      "729\n"
     ]
    }
   ],
   "source": [
    "a = 9\n",
    "# a = a - 3\n",
    "a **= 3\n",
    "print(a)"
   ]
  },
  {
   "cell_type": "markdown",
   "metadata": {},
   "source": [
    "#### *형변환*\n",
    " - str() : 문자열 형변환\n",
    " - int() : 정수형 형변환\n",
    " - float() : 실수형 형변환\n",
    " > int()와 float()에 문자열을 넣으면 Error 발생! 반드시 숫자만 사용"
   ]
  },
  {
   "cell_type": "code",
   "execution_count": 43,
   "metadata": {},
   "outputs": [
    {
     "name": "stdout",
     "output_type": "stream",
     "text": [
      "<class 'int'>\n",
      "<class 'str'>\n"
     ]
    }
   ],
   "source": [
    "a = 52\n",
    "print(type(a))\n",
    "\n",
    "b = str(a)\n",
    "print(type(b)) # 문자열로 형변환"
   ]
  }
 ],
 "metadata": {
  "kernelspec": {
   "display_name": "Python 3",
   "language": "python",
   "name": "python3"
  },
  "language_info": {
   "codemirror_mode": {
    "name": "ipython",
    "version": 3
   },
   "file_extension": ".py",
   "mimetype": "text/x-python",
   "name": "python",
   "nbconvert_exporter": "python",
   "pygments_lexer": "ipython3",
   "version": "3.7.6"
  }
 },
 "nbformat": 4,
 "nbformat_minor": 4
}
