{
 "cells": [
  {
   "cell_type": "markdown",
   "metadata": {},
   "source": [
    "## 학습목표\n",
    "  * 반복문의 이해 및 활용(while)"
   ]
  },
  {
   "cell_type": "markdown",
   "metadata": {},
   "source": [
    "### loop(반복문)\n",
    " + 반복적인 작업을 가능하게 해주는 도구\n",
    " + 특정 조건을 만족하는 경우 수행할 수 있음(while)\n",
    " + 리스트, 문자열, 튜플 등 컬렉션 타입의 아이템을 하니씩 순회하면서 사용 가능(for)\n",
    " + 코드 작업에서, 가장 많이 사용하는 구문 중 하나\n",
    " + ※ 주의할 점: while을 사용할 경우, 반복을 멈추게 하는 장치가 필요\n",
    "   + 그렇지 않으면 셀이 무한히 수행되며, jupyter notebook의 재부팅이 필요\n",
    "\n",
    "\n",
    "ex) 현재 우리 홈페이지에 가입된 회원목록을 출력하세요. -> while\n",
    "\n",
    "ex) 1page의 게시글을 출력해주세요. -> for\n",
    "\n",
    "- Java\n",
    "\n",
    "```python\n",
    "for(int i = 0; i < 조건; i++){ }\n",
    "```\n",
    "\n",
    "```python\n",
    "while(조건){ } // 기본 while\n",
    "\n",
    "// for처럼 사용 case1\n",
    "int i = 0;\n",
    "while(i < 조건){ }\n",
    "\n",
    "\n",
    "// case2\n",
    "int i = 0;\n",
    "while(true){\n",
    "    if(i<조건){\n",
    "        break;\n",
    "    }\n",
    "}\n",
    "```"
   ]
  },
  {
   "cell_type": "markdown",
   "metadata": {},
   "source": [
    "#### while 키워드\n",
    "  - while 뒤의 조건이 True일 경우, while 코드블록을 계속 수행\n",
    "  - while 코드 블록\n",
    "    - if와 마찬가지로 while문 아래의 들여쓰기로 작성된 부분을 으미\n",
    "  - 조건이 False가 되면 블록 수행을 멈추고 이후 코드를 실행"
   ]
  },
  {
   "cell_type": "markdown",
   "metadata": {},
   "source": [
    "#### while 키워드 이용하여 리스트의 아이템 출력하기"
   ]
  },
  {
   "cell_type": "code",
   "execution_count": 2,
   "metadata": {},
   "outputs": [
    {
     "name": "stdout",
     "output_type": "stream",
     "text": [
      "value:  1 , index:  0\n",
      "value:  10 , index:  1\n",
      "value:  9 , index:  2\n",
      "value:  24 , index:  3\n",
      "haha\n"
     ]
    }
   ],
   "source": [
    "a = [1, 10, 9, 24]\n",
    "\n",
    "i = 0 # 인덱스\n",
    "while i < len(a):\n",
    "    print('value: ', a[i], ', index: ', i)\n",
    "    i += 1\n",
    "\n",
    "print('haha')"
   ]
  },
  {
   "cell_type": "code",
   "execution_count": 5,
   "metadata": {},
   "outputs": [
    {
     "name": "stdout",
     "output_type": "stream",
     "text": [
      "24\n",
      "25\n",
      "26\n"
     ]
    }
   ],
   "source": [
    "a = [1, 10, 9 ,24, 25, 26]\n",
    "\n",
    "i = 0 # 인덱스\n",
    "while i < len(a):\n",
    "    if a[i] > 20: # 20보다 큰 경우만 출력\n",
    "        print(a[i])\n",
    "    i += 1"
   ]
  },
  {
   "attachments": {
    "image.png": {
     "image/png": "[encoded data removed]"
    }
   },
   "cell_type": "markdown",
   "metadata": {},
   "source": [
    "* 진위표\n",
    "![image.png](attachment:image.png)\n",
    "\n",
    "※ 코드 끝까지 일기\n",
    ": i= 5에서 멈추지 말고, 반복문이 끝날때까지\n",
    "  (코딩문제에서 i는 몇일까요?물어봄 →여기선 i=6)"
   ]
  },
  {
   "cell_type": "markdown",
   "metadata": {},
   "source": [
    "#### 무한루프\n",
    "  - while의 경우 종료가 되지 않도록 코드를 작성하면 블록에서 빠져나올 수 있음(■ 버튼 눌러서 종료)"
   ]
  },
  {
   "cell_type": "markdown",
   "metadata": {},
   "source": [
    "while True:\n",
    "    print('haha')"
   ]
  },
  {
   "cell_type": "markdown",
   "metadata": {},
   "source": [
    "#### break\n",
    " + loop를 중단할 때 사용\n",
    " + 보통 조건문 안에서 수행되며, 조건을 만족하는 경우 loop를 탈출하기 위해 사용\n",
    " + loop를 중단하는 경우, while 이후의 코드를 수행"
   ]
  },
  {
   "cell_type": "code",
   "execution_count": 11,
   "metadata": {},
   "outputs": [
    {
     "name": "stdout",
     "output_type": "stream",
     "text": [
      "1\n",
      "10\n",
      "9\n",
      "haha\n"
     ]
    }
   ],
   "source": [
    "a = [1, 10, 9, 24, 25, 28]\n",
    "\n",
    "i = 0\n",
    "while i < len(a):\n",
    "    if a[i] > 20:\n",
    "        break\n",
    "    \n",
    "    print(a[i])\n",
    "    \n",
    "    i+= 1\n",
    "print('haha')"
   ]
  },
  {
   "cell_type": "markdown",
   "metadata": {},
   "source": [
    "* for문은 반복횟수가 끝나면 빠져나감\n",
    "* while문은 조건이 false면 빠져나감\n",
    "\n",
    "* for이든 while이든 반복문을 돌던 와중에 빠져나가려면 **break** 사용\n",
    "* ex) 회원 10명 중 랜덤하게 특정 회원 2명을 뽑음. 해당 2명이 반복문이 끝나기 전에 뽑히면 break"
   ]
  },
  {
   "cell_type": "code",
   "execution_count": null,
   "metadata": {},
   "outputs": [],
   "source": [
    "# (가정) crawl() → 호출 → 수집한 데이터 return \n",
    "\n",
    "while True:\n",
    "    data = crawl() # crawl()은 return으로 수집하려는 데이터를 반환\n",
    "    if data == None:\n",
    "        break\n",
    "    print(data)"
   ]
  },
  {
   "cell_type": "markdown",
   "metadata": {},
   "source": [
    "#### continue\n",
    " + break처럼 반복을 중단하여 빠져나오지 않고, 다시 while조건으로 점프함\n",
    " + 특정한 경우에는 코드를 수행하지 않고 다음으로 건너뛰기 위해 사용"
   ]
  },
  {
   "cell_type": "code",
   "execution_count": 14,
   "metadata": {},
   "outputs": [
    {
     "name": "stdout",
     "output_type": "stream",
     "text": [
      "6\n",
      "4\n",
      "3\n",
      "2\n",
      "1\n",
      "0\n"
     ]
    }
   ],
   "source": [
    "a = 7\n",
    "while a > 0:\n",
    "    a -= 1\n",
    "    if a== 5:\n",
    "        continue\n",
    "    print(a)"
   ]
  },
  {
   "cell_type": "markdown",
   "metadata": {},
   "source": [
    "### 1 - 10까지 더하기 (회사면접문제: 칠판에 손코딩)"
   ]
  },
  {
   "cell_type": "code",
   "execution_count": 17,
   "metadata": {},
   "outputs": [
    {
     "name": "stdout",
     "output_type": "stream",
     "text": [
      "1 2\n",
      "3 3\n",
      "6 4\n",
      "10 5\n",
      "15 6\n",
      "21 7\n",
      "28 8\n",
      "36 9\n",
      "45 10\n",
      "55 11\n",
      "55\n"
     ]
    }
   ],
   "source": [
    "num = 1\n",
    "_sum = 0\n",
    "\n",
    "while num <= 10:\n",
    "    _sum += num\n",
    "    num += 1\n",
    "    print(_sum, num)\n",
    "    \n",
    "print(_sum)"
   ]
  },
  {
   "cell_type": "markdown",
   "metadata": {},
   "source": [
    "ex) 피보나치 수열 계산"
   ]
  }
 ],
 "metadata": {
  "kernelspec": {
   "display_name": "Python 3",
   "language": "python",
   "name": "python3"
  },
  "language_info": {
   "codemirror_mode": {
    "name": "ipython",
    "version": 3
   },
   "file_extension": ".py",
   "mimetype": "text/x-python",
   "name": "python",
   "nbconvert_exporter": "python",
   "pygments_lexer": "ipython3",
   "version": "3.7.6"
  }
 },
 "nbformat": 4,
 "nbformat_minor": 4
}
